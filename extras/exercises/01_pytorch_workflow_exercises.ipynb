{
  "nbformat": 4,
  "nbformat_minor": 0,
  "metadata": {
    "colab": {
      "name": "01_pytorch_workflow_exercises.ipynb",
      "provenance": [],
      "include_colab_link": true
    },
    "kernelspec": {
      "name": "python3",
      "display_name": "Python 3"
    },
    "language_info": {
      "name": "python"
    }
  },
  "cells": [
    {
      "cell_type": "markdown",
      "metadata": {
        "id": "view-in-github",
        "colab_type": "text"
      },
      "source": [
        "<a href=\"https://colab.research.google.com/github/MustaphaMLE/ArewaDataScience-DeepLearning/blob/main/extras/exercises/01_pytorch_workflow_exercises.ipynb\" target=\"_parent\"><img src=\"https://colab.research.google.com/assets/colab-badge.svg\" alt=\"Open In Colab\"/></a>"
      ]
    },
    {
      "cell_type": "markdown",
      "source": [
        "\n",
        "Areawa Data Science Academy\n",
        "\n",
        "Deep Learning Cohort 2.0 Name: Mustapha Abdulkadir Sani Email: mustapha.abdulkadir2205@gmail.com Title: Week 2 Solution\n",
        "\n",
        "Exercises Solution\n",
        "\n"
      ],
      "metadata": {
        "id": "Yq-a6J39YMzW"
      }
    },
    {
      "cell_type": "code",
      "source": [
        "# Import necessary libraries\n",
        "import torch\n",
        "from torch import nn\n",
        "import matplotlib.pyplot as plt\n",
        "\n"
      ],
      "metadata": {
        "id": "Glu2fM4dkNlx"
      },
      "execution_count": 1,
      "outputs": []
    },
    {
      "cell_type": "code",
      "source": [
        "# Setup device-agnostic code\n",
        "device = \"cuda\" if torch.cuda.is_available() else \"cpu\"\n",
        "device\n"
      ],
      "metadata": {
        "id": "LqKhXY26m31s",
        "outputId": "dcccd2d9-fbfe-4310-89df-d7cd1913961a",
        "colab": {
          "base_uri": "https://localhost:8080/",
          "height": 35
        }
      },
      "execution_count": 2,
      "outputs": [
        {
          "output_type": "execute_result",
          "data": {
            "text/plain": [
              "'cpu'"
            ],
            "application/vnd.google.colaboratory.intrinsic+json": {
              "type": "string"
            }
          },
          "metadata": {},
          "execution_count": 2
        }
      ]
    },
    {
      "cell_type": "markdown",
      "source": [
        "## 1. Create a straight line dataset using the linear regression formula (`weight * X + bias`).\n",
        "  * Set `weight=0.3` and `bias=0.9` there should be at least 100 datapoints total.\n",
        "  * Split the data into 80% training, 20% testing.\n",
        "  * Plot the training and testing data so it becomes visual.\n",
        "\n",
        "Your output of the below cell should look something like:\n",
        "```\n",
        "Number of X samples: 100\n",
        "Number of y samples: 100\n",
        "First 10 X & y samples:\n",
        "X: tensor([0.0000, 0.0100, 0.0200, 0.0300, 0.0400, 0.0500, 0.0600, 0.0700, 0.0800,\n",
        "        0.0900])\n",
        "y: tensor([0.9000, 0.9030, 0.9060, 0.9090, 0.9120, 0.9150, 0.9180, 0.9210, 0.9240,\n",
        "        0.9270])\n",
        "```\n",
        "\n",
        "Of course the numbers in `X` and `y` may be different but ideally they're created using the linear regression formula."
      ],
      "metadata": {
        "id": "g7HUhxCxjeBx"
      }
    },
    {
      "cell_type": "code",
      "source": [
        "# Create the data parameters\n",
        "weight=3\n",
        "bias=9\n",
        "\n",
        "# Make X and y using linear regression feature\n",
        "start=0\n",
        "end=1\n",
        "step=0.01 # this enables us to create 100 datapoints\n",
        "X=torch.arange(start, end, step).unsqueeze(dim=1)\n",
        "y=weight*X+bias\n",
        "\n",
        "\n",
        "print(f\"Number of X samples: {len(X)}\")\n",
        "print(f\"Number of y samples: {len(y)}\")\n",
        "print(f\"First 10 X & y samples:\\nX: {X[:10]}\\ny: {y[:10]}\")"
      ],
      "metadata": {
        "id": "KbDG5MV7jhvE",
        "outputId": "e91db8b6-82fa-4702-bb74-c7b88cfd4666",
        "colab": {
          "base_uri": "https://localhost:8080/"
        }
      },
      "execution_count": 3,
      "outputs": [
        {
          "output_type": "stream",
          "name": "stdout",
          "text": [
            "Number of X samples: 100\n",
            "Number of y samples: 100\n",
            "First 10 X & y samples:\n",
            "X: tensor([[0.0000],\n",
            "        [0.0100],\n",
            "        [0.0200],\n",
            "        [0.0300],\n",
            "        [0.0400],\n",
            "        [0.0500],\n",
            "        [0.0600],\n",
            "        [0.0700],\n",
            "        [0.0800],\n",
            "        [0.0900]])\n",
            "y: tensor([[9.0000],\n",
            "        [9.0300],\n",
            "        [9.0600],\n",
            "        [9.0900],\n",
            "        [9.1200],\n",
            "        [9.1500],\n",
            "        [9.1800],\n",
            "        [9.2100],\n",
            "        [9.2400],\n",
            "        [9.2700]])\n"
          ]
        }
      ]
    },
    {
      "cell_type": "code",
      "source": [
        "# Split the data into training and testing\n",
        "train_split=int(0.8*len(X)) # 80% of the data will be used for training and 20% for testing\n",
        "X_train, y_train=X[:train_split], y[:train_split] # creating the train set\n",
        "X_test, y_test=X[train_split:], y[train_split:] # creating the test set\n",
        "\n",
        "# checking the lenght of the respective sets\n",
        "len(X_train), len(y_train), len(X_test), len(y_test)"
      ],
      "metadata": {
        "id": "GlwtT1djkmLw",
        "outputId": "0c5fcbd8-71b5-4244-cc31-5d6fd3df245a",
        "colab": {
          "base_uri": "https://localhost:8080/"
        }
      },
      "execution_count": 4,
      "outputs": [
        {
          "output_type": "execute_result",
          "data": {
            "text/plain": [
              "(80, 80, 20, 20)"
            ]
          },
          "metadata": {},
          "execution_count": 4
        }
      ]
    },
    {
      "cell_type": "code",
      "source": [
        "# Plot the training and testing data\n",
        "# to achive this, we are going to create a function, so that we can\n",
        "# re-use it any time we want to plot our training and testing data\n",
        "\n",
        "def plot_predictions(train_data=X_train,\n",
        "                      train_labels=y_train,\n",
        "                      test_data=X_test,\n",
        "                      test_labels=y_test,\n",
        "                      predictions=None):\n",
        "  \"\"\"\n",
        "  Plots training data, test data and compares the predictions.\n",
        "  \"\"\"\n",
        "  plt.figure(figsize=(10, 7))\n",
        "  # plot training data using blue color\n",
        "  plt.scatter(train_data, train_labels, c=\"b\", s=4, label=\"Training data\")\n",
        "  # plot testing data using green color\n",
        "  plt.scatter(test_data, test_labels, c=\"g\", s=4, label=\"Testing data\")\n",
        "  if predictions is not None:\n",
        "    # plot predictions using red color\n",
        "    plt.scatter(test_data, predictions, c=\"r\", s=4, label=\"Predictions\")\n",
        "  # show the legend\n",
        "  plt.legend(prop={\"size\": 14})"
      ],
      "metadata": {
        "id": "29iQZFNhlYJ-"
      },
      "execution_count": 5,
      "outputs": []
    },
    {
      "cell_type": "code",
      "source": [
        "# invoking the function to plot the training and test data\n",
        "plot_predictions()"
      ],
      "metadata": {
        "id": "0zD4bM8LvJIc",
        "outputId": "89be0fa4-94da-48c7-97d7-1ac98c7df49c",
        "colab": {
          "base_uri": "https://localhost:8080/",
          "height": 543
        }
      },
      "execution_count": 6,
      "outputs": [
        {
          "output_type": "display_data",
          "data": {
            "text/plain": [
              "<Figure size 1000x700 with 1 Axes>"
            ],
            "image/png": "[encoded data removed]"
          },
          "metadata": {}
        }
      ]
    },
    {
      "cell_type": "markdown",
      "source": [
        "## 2. Build a PyTorch model by subclassing `nn.Module`.\n",
        "  * Inside should be a randomly initialized `nn.Parameter()` with `requires_grad=True`, one for `weights` and one for `bias`.\n",
        "  * Implement the `forward()` method to compute the linear regression function you used to create the dataset in 1.\n",
        "  * Once you've constructed the model, make an instance of it and check its `state_dict()`.\n",
        "  * **Note:** If you'd like to use `nn.Linear()` instead of `nn.Parameter()` you can."
      ],
      "metadata": {
        "id": "ImZoe3v8jif8"
      }
    },
    {
      "cell_type": "code",
      "source": [
        "# Create PyTorch linear regression model by subclassing nn.Module\n",
        "class LinearRegressionModel(nn.Module):\n",
        "  def __init__(self):\n",
        "    super().__init__()\n",
        "    self.weights=nn.Parameter(torch.randn(1,\n",
        "                                          requires_grad=True,\n",
        "                                          dtype=torch.float))\n",
        "    self.bias=nn.Parameter(torch.randn(1,\n",
        "                                       requires_grad=True,\n",
        "                                       dtype=torch.float))\n",
        "\n",
        "    # implememts the forward function\n",
        "  def forward(self, x: torch.Tensor) -> torch.Tensor: # x is the input data\n",
        "    return self.weights * x + self.bias # our linear regression formula in code"
      ],
      "metadata": {
        "id": "qzd__Y5rjtB8"
      },
      "execution_count": 7,
      "outputs": []
    },
    {
      "cell_type": "code",
      "source": [
        "# Instantiate the model and put it to the target device\n",
        "model=LinearRegressionModel()\n",
        "model.to(device)\n"
      ],
      "metadata": {
        "id": "5LdcDnmOmyQ2",
        "outputId": "a0ce1c9b-fd99-4d16-d5fe-cd3c246bd1f7",
        "colab": {
          "base_uri": "https://localhost:8080/"
        }
      },
      "execution_count": 8,
      "outputs": [
        {
          "output_type": "execute_result",
          "data": {
            "text/plain": [
              "LinearRegressionModel()"
            ]
          },
          "metadata": {},
          "execution_count": 8
        }
      ]
    },
    {
      "cell_type": "markdown",
      "source": [
        "## 3. Create a loss function and optimizer using `nn.L1Loss()` and `torch.optim.SGD(params, lr)` respectively.\n",
        "  * Set the learning rate of the optimizer to be 0.01 and the parameters to optimize should be the model parameters from the model you created in 2.\n",
        "  * Write a training loop to perform the appropriate training steps for 300 epochs.\n",
        "  * The training loop should test the model on the test dataset every 20 epochs."
      ],
      "metadata": {
        "id": "G6nYOrJhjtfu"
      }
    },
    {
      "cell_type": "code",
      "source": [
        "# Create the loss function and optimizer\n",
        "loss_fn=nn.L1Loss() # loss function\n",
        "optimizer=torch.optim.SGD(params=model.parameters(), lr=0.01) # optimizer"
      ],
      "metadata": {
        "id": "ltvoZ-FWjv1j"
      },
      "execution_count": 11,
      "outputs": []
    },
    {
      "cell_type": "code",
      "source": [
        "# Training loop\n",
        "epochs=300 # set up number of epochs to 300\n",
        "\n",
        "# Send data to target device\n",
        "X_train=X_train.to(device)\n",
        "y_train=y_train.to(device)\n",
        "X_test=X_test.to(device)\n",
        "y_test=y_test.to(device)\n",
        "\n",
        "# Train model for 300 epochs\n",
        "for epoch in range(epochs):\n",
        "  ### Training\n",
        "\n",
        "  # Put model in train mode\n",
        "  model.train()\n",
        "\n",
        "  # 1. Forward pass\n",
        "  y_pred=model(X_train)\n",
        "\n",
        "  # 2. Calculate loss\n",
        "  loss=loss_fn(y_pred, y_train)\n",
        "\n",
        "  # 3. Zero gradients\n",
        "  optimizer.zero_grad()\n",
        "\n",
        "  # 4. Backpropagation\n",
        "  loss.backward()\n",
        "\n",
        "  # 5. Step the optimizer\n",
        "  optimizer.step()\n",
        "\n",
        "  ### Perform testing every 20 epochs\n",
        "  if epoch % 20 == 0:\n",
        "\n",
        "    # Put model in evaluation mode and setup inference context\n",
        "    with torch.inference_mode():\n",
        "      # 1. Forward pass\n",
        "      test_pred=model(X_test)\n",
        "      # 2. Calculate test loss\n",
        "      test_loss=loss_fn(test_pred, y_test.type(torch.float))\n",
        "\n",
        "      # Print out what's happening\n",
        "      print(f\"Epoch: {epoch} | Train loss: {loss:.3f} | Test loss: {test_loss:.3f}\")"
      ],
      "metadata": {
        "id": "xpE83NvNnkdV",
        "outputId": "cd9db22c-526e-4164-d8e3-8ec129a4a668",
        "colab": {
          "base_uri": "https://localhost:8080/"
        }
      },
      "execution_count": 18,
      "outputs": [
        {
          "output_type": "stream",
          "name": "stdout",
          "text": [
            "Epoch: 0 | Train loss: 3.108 | Test loss: 2.726\n",
            "Epoch: 20 | Train loss: 2.876 | Test loss: 2.455\n",
            "Epoch: 40 | Train loss: 2.645 | Test loss: 2.185\n",
            "Epoch: 60 | Train loss: 2.414 | Test loss: 1.914\n",
            "Epoch: 80 | Train loss: 2.183 | Test loss: 1.643\n",
            "Epoch: 100 | Train loss: 1.951 | Test loss: 1.373\n",
            "Epoch: 120 | Train loss: 1.720 | Test loss: 1.102\n",
            "Epoch: 140 | Train loss: 1.489 | Test loss: 0.831\n",
            "Epoch: 160 | Train loss: 1.258 | Test loss: 0.560\n",
            "Epoch: 180 | Train loss: 1.027 | Test loss: 0.290\n",
            "Epoch: 200 | Train loss: 0.795 | Test loss: 0.078\n",
            "Epoch: 220 | Train loss: 0.572 | Test loss: 0.245\n",
            "Epoch: 240 | Train loss: 0.452 | Test loss: 0.426\n",
            "Epoch: 260 | Train loss: 0.396 | Test loss: 0.540\n",
            "Epoch: 280 | Train loss: 0.366 | Test loss: 0.612\n"
          ]
        }
      ]
    },
    {
      "cell_type": "markdown",
      "source": [
        "## 4. Make predictions with the trained model on the test data.\n",
        "  * Visualize these predictions against the original training and testing data (**note:** you may need to make sure the predictions are *not* on the GPU if you want to use non-CUDA-enabled libraries such as matplotlib to plot)."
      ],
      "metadata": {
        "id": "x4j4TM18jwa7"
      }
    },
    {
      "cell_type": "code",
      "source": [
        "# Make predictions with the model\n",
        "# set the model in the evaluation model\n",
        "model.eval()\n",
        "\n",
        "# set up the inference mode context manager\n",
        "with torch.inference_mode():\n",
        "  y_preds=model(X_test)\n",
        "\n",
        "# view the predictions\n",
        "y_preds"
      ],
      "metadata": {
        "id": "bbMPK5Qjjyx_",
        "outputId": "b7b3d350-17f2-4259-fb3d-b29bf3354c0a",
        "colab": {
          "base_uri": "https://localhost:8080/"
        }
      },
      "execution_count": 19,
      "outputs": [
        {
          "output_type": "execute_result",
          "data": {
            "text/plain": [
              "tensor([[11.8988],\n",
              "        [11.9452],\n",
              "        [11.9916],\n",
              "        [12.0380],\n",
              "        [12.0843],\n",
              "        [12.1307],\n",
              "        [12.1771],\n",
              "        [12.2235],\n",
              "        [12.2699],\n",
              "        [12.3163],\n",
              "        [12.3627],\n",
              "        [12.4091],\n",
              "        [12.4555],\n",
              "        [12.5019],\n",
              "        [12.5482],\n",
              "        [12.5946],\n",
              "        [12.6410],\n",
              "        [12.6874],\n",
              "        [12.7338],\n",
              "        [12.7802]])"
            ]
          },
          "metadata": {},
          "execution_count": 19
        }
      ]
    },
    {
      "cell_type": "code",
      "source": [
        "# Plot the predictions (these may need to be on a specific device)\n",
        "# using the function I have created\n",
        "plot_predictions(predictions=y_preds)"
      ],
      "metadata": {
        "id": "K3BdmQaDpFo8",
        "outputId": "4236e76f-fc9f-498c-cb0a-919b1ae1bc8f",
        "colab": {
          "base_uri": "https://localhost:8080/",
          "height": 543
        }
      },
      "execution_count": 20,
      "outputs": [
        {
          "output_type": "display_data",
          "data": {
            "text/plain": [
              "<Figure size 1000x700 with 1 Axes>"
            ],
            "image/png": "[encoded data removed]"
          },
          "metadata": {}
        }
      ]
    },
    {
      "cell_type": "markdown",
      "source": [
        "## 5. Save your trained model's `state_dict()` to file.\n",
        "  * Create a new instance of your model class you made in 2. and load in the `state_dict()` you just saved to it.\n",
        "  * Perform predictions on your test data with the loaded model and confirm they match the original model predictions from 4."
      ],
      "metadata": {
        "id": "s2OnlMWKjzX8"
      }
    },
    {
      "cell_type": "code",
      "source": [
        "from pathlib import Path\n",
        "\n",
        "# 1. Create models directory\n",
        "MODEL_PATH = Path(\"models\")\n",
        "MODEL_PATH.mkdir(parents=True, exist_ok=True)\n",
        "\n",
        "# 2. Create model save path\n",
        "MODEL_NAME = \"02_pytorch_workflow_model.pth\"\n",
        "MODEL_SAVE_PATH = MODEL_PATH / MODEL_NAME\n",
        "\n",
        "# 3. Save the model state dict\n",
        "print(f\"Saving model to: {MODEL_SAVE_PATH}\")\n",
        "torch.save(obj=model.state_dict(),\n",
        "           f=MODEL_SAVE_PATH)"
      ],
      "metadata": {
        "id": "hgxhgD14qr-i",
        "outputId": "2184bfe2-b4da-48f6-fa8d-15f399ed3da6",
        "colab": {
          "base_uri": "https://localhost:8080/"
        }
      },
      "execution_count": 21,
      "outputs": [
        {
          "output_type": "stream",
          "name": "stdout",
          "text": [
            "Saving model to: models/02_pytorch_workflow_model.pth\n"
          ]
        }
      ]
    },
    {
      "cell_type": "code",
      "source": [
        "# Create new instance of model and load saved state dict (make sure to put it on the target device)\n",
        "loaded_model=LinearRegressionModel()\n",
        "loaded_model.load_state_dict(torch.load(f=MODEL_SAVE_PATH))\n",
        "loaded_model.to(device)"
      ],
      "metadata": {
        "id": "P9vTgiLRrJ7T",
        "outputId": "3973ccb9-76d4-4128-9d06-605561983241",
        "colab": {
          "base_uri": "https://localhost:8080/"
        }
      },
      "execution_count": 22,
      "outputs": [
        {
          "output_type": "stream",
          "name": "stderr",
          "text": [
            "<ipython-input-22-93fe1055fd77>:3: FutureWarning: You are using `torch.load` with `weights_only=False` (the current default value), which uses the default pickle module implicitly. It is possible to construct malicious pickle data which will execute arbitrary code during unpickling (See https://github.com/pytorch/pytorch/blob/main/SECURITY.md#untrusted-models for more details). In a future release, the default value for `weights_only` will be flipped to `True`. This limits the functions that could be executed during unpickling. Arbitrary objects will no longer be allowed to be loaded via this mode unless they are explicitly allowlisted by the user via `torch.serialization.add_safe_globals`. We recommend you start setting `weights_only=True` for any use case where you don't have full control of the loaded file. Please open an issue on GitHub for any issues related to this experimental feature.\n",
            "  loaded_model.load_state_dict(torch.load(f=MODEL_SAVE_PATH))\n"
          ]
        },
        {
          "output_type": "execute_result",
          "data": {
            "text/plain": [
              "LinearRegressionModel()"
            ]
          },
          "metadata": {},
          "execution_count": 22
        }
      ]
    },
    {
      "cell_type": "code",
      "source": [
        "# Make predictions with loaded model and compare them to the previous\n",
        "# put the loaded_model in the evaluation model\n",
        "loaded_model.eval()\n",
        "\n",
        "# use the inference context manager to make predictions\n",
        "with torch.inference_mode():\n",
        "  loaded_model_preds=loaded_model(X_test) # passing the X_test data\n",
        "\n",
        "# view the loaded predictions\n",
        "loaded_model_preds"
      ],
      "metadata": {
        "id": "8UGX3VebrVtI",
        "outputId": "1a36fb42-1989-4f80-b7ee-fb42ebeb4bd7",
        "colab": {
          "base_uri": "https://localhost:8080/"
        }
      },
      "execution_count": 23,
      "outputs": [
        {
          "output_type": "execute_result",
          "data": {
            "text/plain": [
              "tensor([[11.8988],\n",
              "        [11.9452],\n",
              "        [11.9916],\n",
              "        [12.0380],\n",
              "        [12.0843],\n",
              "        [12.1307],\n",
              "        [12.1771],\n",
              "        [12.2235],\n",
              "        [12.2699],\n",
              "        [12.3163],\n",
              "        [12.3627],\n",
              "        [12.4091],\n",
              "        [12.4555],\n",
              "        [12.5019],\n",
              "        [12.5482],\n",
              "        [12.5946],\n",
              "        [12.6410],\n",
              "        [12.6874],\n",
              "        [12.7338],\n",
              "        [12.7802]])"
            ]
          },
          "metadata": {},
          "execution_count": 23
        }
      ]
    },
    {
      "cell_type": "code",
      "source": [
        "# comparing the prediction of the original model and the loaded one\n",
        "y_preds==loaded_model_preds"
      ],
      "metadata": {
        "id": "ij7mOyE5Vqga",
        "outputId": "84dbb637-8d86-48a7-9abc-6125b54e4ece",
        "colab": {
          "base_uri": "https://localhost:8080/"
        }
      },
      "execution_count": 24,
      "outputs": [
        {
          "output_type": "execute_result",
          "data": {
            "text/plain": [
              "tensor([[True],\n",
              "        [True],\n",
              "        [True],\n",
              "        [True],\n",
              "        [True],\n",
              "        [True],\n",
              "        [True],\n",
              "        [True],\n",
              "        [True],\n",
              "        [True],\n",
              "        [True],\n",
              "        [True],\n",
              "        [True],\n",
              "        [True],\n",
              "        [True],\n",
              "        [True],\n",
              "        [True],\n",
              "        [True],\n",
              "        [True],\n",
              "        [True]])"
            ]
          },
          "metadata": {},
          "execution_count": 24
        }
      ]
    },
    {
      "cell_type": "markdown",
      "source": [
        "we can see from the comparison the output of the models matched"
      ],
      "metadata": {
        "id": "qX_CnJVTV9_R"
      }
    },
    {
      "cell_type": "code",
      "source": [],
      "metadata": {
        "id": "s6DldV1SWDAs"
      },
      "execution_count": null,
      "outputs": []
    }
  ]
}