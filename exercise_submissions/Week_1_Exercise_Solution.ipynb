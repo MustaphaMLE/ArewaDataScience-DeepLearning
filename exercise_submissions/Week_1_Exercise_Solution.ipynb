{
  "nbformat": 4,
  "nbformat_minor": 0,
  "metadata": {
    "colab": {
      "provenance": [],
      "gpuType": "T4"
    },
    "kernelspec": {
      "name": "python3",
      "display_name": "Python 3"
    },
    "language_info": {
      "name": "python"
    },
    "accelerator": "GPU"
  },
  "cells": [
    {
      "cell_type": "markdown",
      "source": [
        "### **Areawa Data Science Academy**\n",
        "**Deep Learning Cohort 2.0**\n",
        "Name: Mustapha Abdulkadir Sani\n",
        "Email: mustapha.abdulkadir2205@gmail.com\n",
        "Title: Week 1 Solution"
      ],
      "metadata": {
        "id": "PE7U-nVJqYnd"
      }
    },
    {
      "cell_type": "markdown",
      "source": [
        "Exercises Solution"
      ],
      "metadata": {
        "id": "2IZ3JgNxrzqX"
      }
    },
    {
      "cell_type": "markdown",
      "source": [
        "1. Documentation Reading"
      ],
      "metadata": {
        "id": "RfnrvPKfsEA2"
      }
    },
    {
      "cell_type": "markdown",
      "source": [
        "**The documentation on torch.Tensor**\n",
        "After reading the documentation I understood that tensors are used for representing the data that we want our model to manipulate  and learn from. If we are going to be working on images we have represent our images in form of tensors before PyTorch can actually process them. Tensor are just Multi dimensional matrices whose values represent our data. Tensor can store different data types ranging from float16, float32 etc."
      ],
      "metadata": {
        "id": "fxPkC9LRtH5O"
      }
    },
    {
      "cell_type": "markdown",
      "source": [
        "**The documentation on torch.cuda**\n",
        "torch.cuda is a package that allows us to work with GPUs to enable faster compuatation and parallelization. It has so many APIs one of which is is_available that can be use to determine if system one is using supports CUDA."
      ],
      "metadata": {
        "id": "khWR_wXju5uf"
      }
    },
    {
      "cell_type": "code",
      "source": [
        "# Question 2\n",
        "# Creating a random tensor with shape (7,7)\n",
        "\n",
        "# to create a random PyTorch tensor we need to import torch first\n",
        "import torch\n",
        "random_tensor=torch.rand(7,7) # create a random tensor of shape (7,7) and store it in a variable named random_tensor\n",
        "\n",
        "# printing the created tensor on the screen\n",
        "random_tensor\n",
        "\n"
      ],
      "metadata": {
        "colab": {
          "base_uri": "https://localhost:8080/"
        },
        "id": "C5c6f8E8rDGv",
        "outputId": "48f0fb8e-fbf5-4179-ab5d-3c82508cb4c0"
      },
      "execution_count": null,
      "outputs": [
        {
          "output_type": "execute_result",
          "data": {
            "text/plain": [
              "tensor([[0.9711, 0.4197, 0.0587, 0.0176, 0.0201, 0.0335, 0.3341],\n",
              "        [0.4273, 0.9016, 0.2337, 0.8654, 0.2293, 0.3508, 0.6343],\n",
              "        [0.4725, 0.8710, 0.0986, 0.6112, 0.6987, 0.8487, 0.9904],\n",
              "        [0.6050, 0.3251, 0.2321, 0.7638, 0.6632, 0.4156, 0.5510],\n",
              "        [0.6012, 0.1955, 0.9189, 0.7791, 0.9745, 0.1347, 0.2492],\n",
              "        [0.0785, 0.5418, 0.3529, 0.5361, 0.6405, 0.5086, 0.4987],\n",
              "        [0.8029, 0.4984, 0.9596, 0.9282, 0.3997, 0.6822, 0.3659]])"
            ]
          },
          "metadata": {},
          "execution_count": 1
        }
      ]
    },
    {
      "cell_type": "code",
      "source": [
        "# Question 3\n",
        "# Performing matrix multiplication on the tensor created above\n",
        "# with another random tensor with sgape (1,7)\n",
        "\n",
        "# creating the second random tensor\n",
        "random_tensor_2=torch.rand(1,7) # create a random tensor of shape (1,7) and store it in a variable named random_tensor_2\n",
        "\n",
        "# printing the two tensor on the screen\n",
        "print(\"First Tensor: \")\n",
        "print(random_tensor)\n",
        "print(\"Second Tensor: \")\n",
        "print(random_tensor_2)\n",
        "\n",
        "# performing the multiplication on the two random tensors\n",
        "tensors_product=torch.matmul(random_tensor,random_tensor_2.T) # random_tensor_2 need to be transposed so that the dimension will match\n",
        "# printing the result of the multiplication\n",
        "print(\"Product of the two tensors: \")\n",
        "print(tensors_product)\n"
      ],
      "metadata": {
        "colab": {
          "base_uri": "https://localhost:8080/"
        },
        "id": "lpggND4tx3ZL",
        "outputId": "a442a4ec-2327-409e-f5bc-ec369094c85f"
      },
      "execution_count": null,
      "outputs": [
        {
          "output_type": "stream",
          "name": "stdout",
          "text": [
            "First Tensor: \n",
            "tensor([[0.9711, 0.4197, 0.0587, 0.0176, 0.0201, 0.0335, 0.3341],\n",
            "        [0.4273, 0.9016, 0.2337, 0.8654, 0.2293, 0.3508, 0.6343],\n",
            "        [0.4725, 0.8710, 0.0986, 0.6112, 0.6987, 0.8487, 0.9904],\n",
            "        [0.6050, 0.3251, 0.2321, 0.7638, 0.6632, 0.4156, 0.5510],\n",
            "        [0.6012, 0.1955, 0.9189, 0.7791, 0.9745, 0.1347, 0.2492],\n",
            "        [0.0785, 0.5418, 0.3529, 0.5361, 0.6405, 0.5086, 0.4987],\n",
            "        [0.8029, 0.4984, 0.9596, 0.9282, 0.3997, 0.6822, 0.3659]])\n",
            "Second Tensor: \n",
            "tensor([[0.5494, 0.3506, 0.1450, 0.3120, 0.4909, 0.3824, 0.3210]])\n",
            "Product of the two tensors: \n",
            "tensor([[0.8246],\n",
            "        [1.3050],\n",
            "        [1.7554],\n",
            "        [1.3797],\n",
            "        [1.3851],\n",
            "        [1.1205],\n",
            "        [1.6191]])\n"
          ]
        }
      ]
    },
    {
      "cell_type": "code",
      "source": [
        "# Question 4. Setting different random seeds\n",
        "\n",
        "# 1. setting random seed 0\n",
        "\n",
        "# setting the manual seed\n",
        "torch.manual_seed(0)\n",
        "\n",
        "# creating the two tensors\n",
        "random_tensor_3=torch.rand(7,7)\n",
        "random_tensor_4=torch.rand(1,7)\n",
        "\n",
        "# printing the two tensors\n",
        "print(\"First Tensor: \")\n",
        "print(random_tensor_3)\n",
        "print(\"Second Tensor: \")\n",
        "print(random_tensor_4)\n",
        "\n",
        "# performimg the matrix multiplication using random seed 0\n",
        "random_seed_0_output=torch.matmul(random_tensor_3,random_tensor_4.T)\n",
        "print(\"Product of the two tensors: \")\n",
        "print(random_seed_0_output)"
      ],
      "metadata": {
        "colab": {
          "base_uri": "https://localhost:8080/"
        },
        "id": "rCdCCLAk1XrN",
        "outputId": "c1375ee0-03c6-42b9-e26f-349a72c5c94b"
      },
      "execution_count": null,
      "outputs": [
        {
          "output_type": "stream",
          "name": "stdout",
          "text": [
            "First Tensor: \n",
            "tensor([[0.4963, 0.7682, 0.0885, 0.1320, 0.3074, 0.6341, 0.4901],\n",
            "        [0.8964, 0.4556, 0.6323, 0.3489, 0.4017, 0.0223, 0.1689],\n",
            "        [0.2939, 0.5185, 0.6977, 0.8000, 0.1610, 0.2823, 0.6816],\n",
            "        [0.9152, 0.3971, 0.8742, 0.4194, 0.5529, 0.9527, 0.0362],\n",
            "        [0.1852, 0.3734, 0.3051, 0.9320, 0.1759, 0.2698, 0.1507],\n",
            "        [0.0317, 0.2081, 0.9298, 0.7231, 0.7423, 0.5263, 0.2437],\n",
            "        [0.5846, 0.0332, 0.1387, 0.2422, 0.8155, 0.7932, 0.2783]])\n",
            "Second Tensor: \n",
            "tensor([[0.4820, 0.8198, 0.9971, 0.6984, 0.5675, 0.8352, 0.2056]])\n",
            "Product of the two tensors: \n",
            "tensor([[1.8542],\n",
            "        [1.9611],\n",
            "        [2.2884],\n",
            "        [3.0481],\n",
            "        [1.7067],\n",
            "        [2.5290],\n",
            "        [1.7989]])\n"
          ]
        }
      ]
    },
    {
      "cell_type": "code",
      "source": [
        "# 2. setting random seed 2\n",
        "\n",
        "# setting the manual seed\n",
        "torch.manual_seed(2)\n",
        "\n",
        "# creating the two tensors\n",
        "random_tensor_3=torch.rand(7,7)\n",
        "random_tensor_4=torch.rand(1,7)\n",
        "\n",
        "# printing the two tensors\n",
        "print(\"First Tensor: \")\n",
        "print(random_tensor_3)\n",
        "print(\"Second Tensor: \")\n",
        "print(random_tensor_4)\n",
        "\n",
        "# performimg the matrix multiplication using random seed 0\n",
        "random_seed_2_output=torch.matmul(random_tensor_3,random_tensor_4.T)\n",
        "print(\"Product of the two tensors: \")\n",
        "print(random_seed_2_output)"
      ],
      "metadata": {
        "colab": {
          "base_uri": "https://localhost:8080/"
        },
        "id": "jryLXq4l5Wss",
        "outputId": "31bb2bcc-9b07-421c-c2fd-3768df5a4d7e"
      },
      "execution_count": null,
      "outputs": [
        {
          "output_type": "stream",
          "name": "stdout",
          "text": [
            "First Tensor: \n",
            "tensor([[0.6147, 0.3810, 0.6371, 0.4745, 0.7136, 0.6190, 0.4425],\n",
            "        [0.0958, 0.6142, 0.0573, 0.5657, 0.5332, 0.3901, 0.9088],\n",
            "        [0.5334, 0.7073, 0.7116, 0.2050, 0.3078, 0.9809, 0.0103],\n",
            "        [0.4660, 0.4604, 0.8547, 0.4525, 0.6317, 0.4760, 0.2200],\n",
            "        [0.2166, 0.2571, 0.0458, 0.1755, 0.6177, 0.8291, 0.5246],\n",
            "        [0.2708, 0.7197, 0.3081, 0.3892, 0.2259, 0.3430, 0.0367],\n",
            "        [0.7133, 0.6944, 0.5993, 0.7455, 0.7119, 0.5221, 0.5530]])\n",
            "Second Tensor: \n",
            "tensor([[0.5382, 0.7668, 0.8359, 0.8591, 0.7898, 0.3781, 0.4777]])\n",
            "Product of the two tensors: \n",
            "tensor([[2.5722],\n",
            "        [2.0592],\n",
            "        [2.2192],\n",
            "        [2.4909],\n",
            "        [1.5547],\n",
            "        [1.6152],\n",
            "        [3.0816]])\n"
          ]
        }
      ]
    },
    {
      "cell_type": "code",
      "source": [
        "# 1. setting random seed 3\n",
        "\n",
        "# setting the manual seed\n",
        "torch.manual_seed(3)\n",
        "\n",
        "# creating the two tensors\n",
        "random_tensor_3=torch.rand(7,7)\n",
        "random_tensor_4=torch.rand(1,7)\n",
        "\n",
        "# printing the two tensors\n",
        "print(\"First Tensor: \")\n",
        "print(random_tensor_3)\n",
        "print(\"Second Tensor: \")\n",
        "print(random_tensor_4)\n",
        "\n",
        "# performimg the matrix multiplication using random seed 0\n",
        "random_seed_3_output=torch.matmul(random_tensor_3,random_tensor_4.T)\n",
        "print(\"Product of the two tensors: \")\n",
        "print(random_seed_3_output)"
      ],
      "metadata": {
        "colab": {
          "base_uri": "https://localhost:8080/"
        },
        "id": "mZ2m6Crl5zBp",
        "outputId": "39999091-dbb3-4af6-8c80-4524f1a5afbf"
      },
      "execution_count": null,
      "outputs": [
        {
          "output_type": "stream",
          "name": "stdout",
          "text": [
            "First Tensor: \n",
            "tensor([[0.0043, 0.1056, 0.2858, 0.0270, 0.4716, 0.0601, 0.7719],\n",
            "        [0.7437, 0.5944, 0.8879, 0.4510, 0.7995, 0.1498, 0.4015],\n",
            "        [0.0542, 0.4594, 0.1756, 0.9492, 0.8473, 0.8749, 0.6483],\n",
            "        [0.2148, 0.9493, 0.0121, 0.1809, 0.1877, 0.2927, 0.5997],\n",
            "        [0.1213, 0.1148, 0.2609, 0.8052, 0.1394, 0.0516, 0.0666],\n",
            "        [0.2540, 0.3686, 0.0043, 0.2659, 0.5096, 0.5824, 0.4283],\n",
            "        [0.4433, 0.1747, 0.7562, 0.3795, 0.1581, 0.3796, 0.4301]])\n",
            "Second Tensor: \n",
            "tensor([[0.9623, 0.7606, 0.2981, 0.4291, 0.9418, 0.8212, 0.6247]])\n",
            "Product of the two tensors: \n",
            "tensor([[1.1569],\n",
            "        [2.7528],\n",
            "        [2.7826],\n",
            "        [1.8017],\n",
            "        [0.8425],\n",
            "        [1.8660],\n",
            "        [1.6771]])\n"
          ]
        }
      ]
    },
    {
      "cell_type": "code",
      "source": [
        "# Examining and comparing the output of different random seeds\n",
        "print(\"Output of random seed 0: \")\n",
        "print(random_seed_0_output)\n",
        "print(\"Output of random seed 2: \")\n",
        "print(random_seed_2_output)\n",
        "print(\"Output of random seed 3: \")\n",
        "print(random_seed_3_output)"
      ],
      "metadata": {
        "colab": {
          "base_uri": "https://localhost:8080/"
        },
        "id": "iYFIWJsw6CYv",
        "outputId": "babe30e9-194f-4b21-84ec-a17085e41a81"
      },
      "execution_count": null,
      "outputs": [
        {
          "output_type": "stream",
          "name": "stdout",
          "text": [
            "Output of random seed 0: \n",
            "tensor([[1.8542],\n",
            "        [1.9611],\n",
            "        [2.2884],\n",
            "        [3.0481],\n",
            "        [1.7067],\n",
            "        [2.5290],\n",
            "        [1.7989]])\n",
            "Output of random seed 2: \n",
            "tensor([[2.5722],\n",
            "        [2.0592],\n",
            "        [2.2192],\n",
            "        [2.4909],\n",
            "        [1.5547],\n",
            "        [1.6152],\n",
            "        [3.0816]])\n",
            "Output of random seed 3: \n",
            "tensor([[1.1569],\n",
            "        [2.7528],\n",
            "        [2.7826],\n",
            "        [1.8017],\n",
            "        [0.8425],\n",
            "        [1.8660],\n",
            "        [1.6771]])\n"
          ]
        }
      ]
    },
    {
      "cell_type": "code",
      "source": [
        "# Question 5: Setting GPU equivalent of torch.manual_seed\n",
        "# After checking the documentation, I found that it actually exist\n",
        "\n",
        "# set random seed for GPU using 1234\n",
        "torch.cuda.manual_seed(1234)"
      ],
      "metadata": {
        "id": "sdbBHJPG6j15"
      },
      "execution_count": null,
      "outputs": []
    },
    {
      "cell_type": "code",
      "source": [
        "# Question 6: creating two random tensors and sending them to GPU\n",
        "\n",
        "# To achieve this, I have to change my run time type by switching from CPU to GPU\n",
        "# I also need to set device agnostic code\n",
        "\n",
        "# setting random seed\n",
        "torch.manual_seed(1234)\n",
        "\n",
        "# setting device agnostic code\n",
        "device=\"cuda\" if torch.cuda.is_available() else \"cpu\"\n",
        "\n",
        "# check for access to GPU\n",
        "print(f\"Device: {device}\")\n",
        "\n",
        "# creating the two tensors\n",
        "random_tensor_5=torch.rand(2,3).to(\"cuda\") # to(\"cuda\") means we are sending the tensor to GPU\n",
        "random_tensor_6=torch.rand(2,3).to(\"cuda\")\n",
        "\n",
        "# printing the two newly created te tensors\n",
        "print(\"First Tensor on GPU: \")\n",
        "print(random_tensor_5)\n",
        "print(\"Second Tensor on GPU: \")\n",
        "print(random_tensor_6)\n"
      ],
      "metadata": {
        "colab": {
          "base_uri": "https://localhost:8080/"
        },
        "id": "LDxK_g0E7Sus",
        "outputId": "b950669e-c921-4adf-b5f7-f596cb22824b"
      },
      "execution_count": null,
      "outputs": [
        {
          "output_type": "stream",
          "name": "stdout",
          "text": [
            "Device: cuda\n",
            "First Tensor on GPU: \n",
            "tensor([[0.0290, 0.4019, 0.2598],\n",
            "        [0.3666, 0.0583, 0.7006]], device='cuda:0')\n",
            "Second Tensor on GPU: \n",
            "tensor([[0.0518, 0.4681, 0.6738],\n",
            "        [0.3315, 0.7837, 0.5631]], device='cuda:0')\n"
          ]
        }
      ]
    },
    {
      "cell_type": "code",
      "source": [
        "# Question 7: Performing matrix multiplication on the tensors created in 6 above\n",
        "\n",
        "# perform matrix multiplication on random_tensor_5 and random_tensor_6\n",
        "question_7_output=torch.matmul(random_tensor_5,random_tensor_6.T) # need to transpose one of the tesnors, so that the dimension will match\n",
        "\n",
        "# print the result of the multiplication\n",
        "print(question_7_output)\n"
      ],
      "metadata": {
        "colab": {
          "base_uri": "https://localhost:8080/"
        },
        "id": "U20w1xnX-Cmt",
        "outputId": "07260fec-11c0-4e02-c032-06ad72ef233a"
      },
      "execution_count": null,
      "outputs": [
        {
          "output_type": "stream",
          "name": "stdout",
          "text": [
            "tensor([[0.3647, 0.4709],\n",
            "        [0.5184, 0.5617]], device='cuda:0')\n"
          ]
        }
      ]
    },
    {
      "cell_type": "code",
      "source": [
        "# Question 8: Finding the maximum and minimum values of question 7 output\n",
        "\n",
        "# finding the max value\n",
        "max_value=torch.max(question_7_output)\n",
        "\n",
        "# finding the min value\n",
        "min_value=torch.min(question_7_output)\n",
        "\n",
        "# printing the max and min values\n",
        "print(f\"Max value: {max_value}\")\n",
        "print(f\"Min value: {min_value}\")\n"
      ],
      "metadata": {
        "colab": {
          "base_uri": "https://localhost:8080/"
        },
        "id": "Rs0pw5Hm_L4D",
        "outputId": "590d254d-f7e4-48dd-87da-f517748665c8"
      },
      "execution_count": null,
      "outputs": [
        {
          "output_type": "stream",
          "name": "stdout",
          "text": [
            "Max value: 0.5617256760597229\n",
            "Min value: 0.3647301495075226\n"
          ]
        }
      ]
    },
    {
      "cell_type": "code",
      "source": [
        "# Question 8: Finding the maximum and minimum in dex values of question 7 output\n",
        "\n",
        "# finding the max value\n",
        "max_index_value=torch.argmax(question_7_output)\n",
        "\n",
        "# finding the min value\n",
        "min_index_value=torch.argmin(question_7_output)\n",
        "\n",
        "# printing the max and min index values\n",
        "print(f\"Max value: {max_index_value}\")\n",
        "print(f\"Min value: {min_index_value}\")\n"
      ],
      "metadata": {
        "colab": {
          "base_uri": "https://localhost:8080/"
        },
        "id": "RZEwYj-h_-i1",
        "outputId": "74461ef7-5979-40bc-97be-cde90429aaf5"
      },
      "execution_count": null,
      "outputs": [
        {
          "output_type": "stream",
          "name": "stdout",
          "text": [
            "Max value: 3\n",
            "Min value: 0\n"
          ]
        }
      ]
    },
    {
      "cell_type": "code",
      "source": [
        "# Question 10: Creating a tensor with shape (1,,1,1,10)\n",
        "# and then create a new tensor with all 1 dimension removes, and setting seed to 7\n",
        "\n",
        "# setting the seed\n",
        "torch.manual_seed(7)\n",
        "\n",
        "# creating the tensor\n",
        "tensor_10=torch.rand(1,1,1,10)\n",
        "\n",
        "# printing the tensor\n",
        "print(tensor_10)\n",
        "print(f\"Tensor shape: {tensor_10.shape}\")\n",
        "\n",
        "# removing the 1s dimension\n",
        "tensor_10_squeezed=tensor_10.squeeze() # the squeeze() method removes the 1s dimensions\n",
        "\n",
        "# printing the new tensor\n",
        "print(tensor_10_squeezed)\n",
        "print(f\"Tensor shape: {tensor_10_squeezed.shape}\")"
      ],
      "metadata": {
        "colab": {
          "base_uri": "https://localhost:8080/"
        },
        "id": "sjywiK82BJyv",
        "outputId": "9174c764-0d74-4b9c-8310-5de121987335"
      },
      "execution_count": null,
      "outputs": [
        {
          "output_type": "stream",
          "name": "stdout",
          "text": [
            "tensor([[[[0.5349, 0.1988, 0.6592, 0.6569, 0.2328, 0.4251, 0.2071, 0.6297,\n",
            "           0.3653, 0.8513]]]])\n",
            "Tensor shape: torch.Size([1, 1, 1, 10])\n",
            "tensor([0.5349, 0.1988, 0.6592, 0.6569, 0.2328, 0.4251, 0.2071, 0.6297, 0.3653,\n",
            "        0.8513])\n",
            "Tensor shape: torch.Size([10])\n"
          ]
        }
      ]
    }
  ]
}